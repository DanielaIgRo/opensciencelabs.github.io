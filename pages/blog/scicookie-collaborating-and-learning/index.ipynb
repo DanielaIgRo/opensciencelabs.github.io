{
 "cells": [
  {
   "cell_type": "raw",
   "metadata": {},
   "source": [
    "---\n",
    "title: \"Collaborating and learning from Scicookie\"\n",
    "slug: scicookie-collaborating-and-learning\n",
    "date: 2024-01-03\n",
    "authors: [\"Daniela Iglesias Rocabado\"]\n",
    "tags: [open-source, open-science, python, proyects]\n",
    "categories: [python]\n",
    "description: |\n",
    "  The SciCookie template, developed by Open Science Labs, is a Python package based on the Cookieninja A Cookiecutter Fork\n",
    "  command-line utility. Serving as a versatile boilerplate, it simplifies project creation for both beginners and experienced\n",
    "  developers, saving significant time. Derived from ongoing research on scientific Python tools and best practices, SciCookie\n",
    "  aligns with PyOpenSci recommendations, providing a standardized starting point for projects that can be easily customized\n",
    "  while adhering to industry standards.\n",
    "thumbnail: \"/header.jpeg\"\n",
    "template: \"blog-post.html\"\n",
    "---"
   ]
  },
  {
   "cell_type": "markdown",
   "metadata": {},
   "source": [
    "# Scicookie\n",
    "\n",
    "The SciCookie template, developed by Open Science Labs, is a Python package based on the Cookieninja A Cookiecutter Fork command-line utility. Functioning as a versatile boilerplate, it facilitates project creation for both beginners and experienced developers, streamlining the process and saving considerable time. Cookieninja provides an initial project layout with recommended tools, workflows, and structure. Additionally, it incorporates features like automatic documentation generation, automated testing, and project-specific configuration to enhance the development workflow. The template is aligned with PyOpenSci recommendations, derived from ongoing research on tools, libraries, best practices, and workflows in scientific Python. As a result, SciCookie offers authors a standardized starting point for projects that can be easily adjusted to meet specific requirements while maintaining industry standards.\n",
    "\n",
    "\n",
    "## Benefits of using SciCookie\n",
    "\n",
    "- **Organized Workflow:** Utilizing the SciCookie template allows for maintaining an organized workflow. By configuring elements such as project design, build system, command-line interface, and documentation engine, the development process is streamlined, ensuring a coherent and organized framework for the project.\n",
    "- **Enhanced Project Tools:** SciCookie provides the flexibility to choose from various tools that can enhance the project. These tools automate tasks, ensure consistent code formatting, and identify errors and vulnerabilities.\n",
    "- **DevOps Integration:** Another significant benefit is the seamless integration of the Python project with DevOps tools. These tools automate and optimize the development process, from code status to completion and maintenance."
   ]
  },
  {
   "cell_type": "markdown",
   "metadata": {},
   "source": [
    "## How to use SciCookie?\n",
    "\n",
    "### Quickstart\n",
    "\n",
    "To utilize the tool, ensure you have Cookieninja installed. If not, Cookieninja version 1.0.0 or higher is required.\n",
    "\n",
    ">**Note:**\n",
    "Navigate to the folder where you want to create your project.\n",
    "\n",
    "\n",
    "```bash\n",
    "pip install scicookie\n",
    "```\n",
    "\n",
    "Once you have entered your folder, you need to generate a Python package project:\n",
    "\n",
    "```bash\n",
    "scicookie\n",
    "```"
   ]
  },
  {
   "cell_type": "markdown",
   "metadata": {},
   "source": [
    "## Demo Video\n",
    "\n",
    "<video controls width=\"500\">\n",
    "    <source src=\"ScicookieDemo.mp4\" type=\"video/mp4\">\n",
    "    Tu navegador no soporta la etiqueta de video.\n",
    "</video>"
   ]
  },
  {
   "cell_type": "markdown",
   "metadata": {},
   "source": [
    "## Develpment\n",
    "\n",
    "After making the necessary changes to your project, to view or test the modifications, you can use the following commands:\n",
    "\n",
    "```bash\n",
    "makim testst.lint\n",
    "makim testst.unittest\n",
    "makim tests.smoke\n",
    "```"
   ]
  }
 ],
 "metadata": {
  "language_info": {
   "name": "python"
  }
 },
 "nbformat": 4,
 "nbformat_minor": 2
}
